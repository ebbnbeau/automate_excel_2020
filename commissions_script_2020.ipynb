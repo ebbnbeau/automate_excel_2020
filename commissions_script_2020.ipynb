{
 "cells": [
  {
   "cell_type": "code",
   "execution_count": null,
   "id": "cc1a7eec",
   "metadata": {},
   "outputs": [],
   "source": [
    "import pandas as pd\n",
    "import openpyxl as op\n",
    "from openpyxl import load_workbook\n",
    "from openpyxl.utils.cell import get_column_letter\n",
    "from openpyxl.styles import Border, Side, Font, Alignment, numbers\n",
    "import numpy as np\n",
    "from datetime import datetime\n",
    "startTime = datetime.now()\n",
    "pd.set_option('display.max_columns', None)\n",
    "accounting_format = u'_($* #,##0.00_);[Red]_($* (#,##0.00);_($* -_0_0_);_(@'\n",
    "percentage_format = numbers.FORMAT_PERCENTAGE_00"
   ]
  },
  {
   "cell_type": "code",
   "execution_count": null,
   "id": "44a30569",
   "metadata": {},
   "outputs": [],
   "source": [
    "month = (input(\"Enter commission month: \")).capitalize()\n",
    "month"
   ]
  },
  {
   "cell_type": "code",
   "execution_count": null,
   "id": "1bf522f2",
   "metadata": {},
   "outputs": [],
   "source": [
    "rep_detail = pd.read_excel('rep_detail_input.xlsx') #REP DETAIL LIST"
   ]
  },
  {
   "cell_type": "code",
   "execution_count": null,
   "id": "dbf714a0",
   "metadata": {},
   "outputs": [],
   "source": [
    "sales_data = pd.read_excel('filename.xlsx', keep_default_na = False, parse_dates = ['Invc Date']).copy() #MONTHLY SALES DATA, keep blanks, use a copy\n",
    "sales_data['Invc Date'] = sales_data['Invc Date'].dt.date"
   ]
  },
  {
   "cell_type": "code",
   "execution_count": null,
   "id": "28749dad",
   "metadata": {},
   "outputs": [],
   "source": [
    "for i in range(len(rep_detail.index)):\n",
    "    rep_code_list = str(rep_detail['Rep Code'][i]).split(' ')\n",
    "    \n",
    "    path = rep_detail['Path'][i]\n",
    "    \n",
    "    sales_data_copy = sales_data\n",
    "    rep_df = sales_data_copy.loc[sales_data_copy['Rep'].isin(rep_code_list)]\n",
    "    \n",
    "    wb = load_workbook(path)\n",
    "\n",
    "    writer = pd.ExcelWriter(path, engine = 'openpyxl')\n",
    "    writer.book = wb\n",
    "    \n",
    "    rep_df.to_excel(writer, index = False, sheet_name = month)\n",
    "    \n",
    "    sheet = wb[month]\n",
    "    \n",
    "    ##find column number for the needed columns\n",
    "    unitcost_colnum = rep_df.columns.get_loc('Unit Cost')+1\n",
    "    stdunitcost_colnum = unitcost_colnum+1\n",
    "    price_colnum = unitcost_colnum+2\n",
    "    net_colnum = unitcost_colnum+3\n",
    "    grosspercent_colnum = unitcost_colnum+4\n",
    "    grossdollar_colnum = unitcost_colnum+5\n",
    "    \n",
    "    ## format each cell in needed columns to be accounting format\n",
    "    for i in range(len(rep_df['Unit Cost'])):\n",
    "        cell = sheet.cell(row = i+2, column = unitcost_colnum)\n",
    "        cell.number_format = accounting_format\n",
    "    \n",
    "    for i in range(len(rep_df['Std Cost Ext'])):\n",
    "        cell = sheet.cell(row = i+2, column = stdunitcost_colnum)\n",
    "        cell.number_format = accounting_format\n",
    "        \n",
    "    for i in range(len(rep_df['Price FDP'])):\n",
    "        cell = sheet.cell(row = i+2, column = price_colnum)\n",
    "        cell.number_format = accounting_format\n",
    "        \n",
    "    for i in range(len(rep_df['Net Amount'])):\n",
    "        cell = sheet.cell(row = i+2, column = net_colnum)\n",
    "        cell.number_format = accounting_format\n",
    "        \n",
    "    for i in range(len(rep_df['Gross Margin off Std Cost'])):\n",
    "        cell = sheet.cell(row = i+2, column = grossdollar_colnum)\n",
    "        cell.number_format = accounting_format\n",
    "    \n",
    "    ## format each cell in needed columns to be percentage format\n",
    "    for i in range(len(rep_df['GP % off Standard Cost'])):\n",
    "        cell = sheet.cell(row = i+2, column = grosspercent_colnum)\n",
    "        cell.number_format = percentage_format\n",
    "        \n",
    "    column_count = len(rep_df.columns)\n",
    "    column_number = 1\n",
    "    sheet = wb[month]\n",
    "    \n",
    "    while column_number <= column_count:\n",
    "        max = len(str(rep_df.columns.values[column_number-1]))\n",
    "        col = list(sales_data_copy[rep_df.columns.values[column_number-1]])\n",
    "    \n",
    "        for cell in col:\n",
    "            if len(str(cell)) > max:\n",
    "                max = len(str(cell))\n",
    "        \n",
    "        sheet.column_dimensions[get_column_letter(column_number)].width = max+3\n",
    "        column_number += 1\n",
    "    \n",
    "    \n",
    "    ## pivot table of customer no, customer name, and sum of net amount\n",
    "    piv = rep_df.groupby(['Cust No', 'Customer Name']).sum()['Net Amount']\n",
    "    piv.to_excel(writer, sheet_name = 'Pivot')\n",
    "\n",
    "    writer.save()\n",
    "    writer.close()\n",
    "    wb.save(path)"
   ]
  },
  {
   "cell_type": "code",
   "execution_count": null,
   "id": "ebf6d908",
   "metadata": {},
   "outputs": [],
   "source": []
  },
  {
   "cell_type": "code",
   "execution_count": null,
   "id": "e08f223d",
   "metadata": {},
   "outputs": [],
   "source": []
  }
 ],
 "metadata": {
  "kernelspec": {
   "display_name": "Python 3",
   "language": "python",
   "name": "python3"
  },
  "language_info": {
   "codemirror_mode": {
    "name": "ipython",
    "version": 3
   },
   "file_extension": ".py",
   "mimetype": "text/x-python",
   "name": "python",
   "nbconvert_exporter": "python",
   "pygments_lexer": "ipython3",
   "version": "3.9.5"
  }
 },
 "nbformat": 4,
 "nbformat_minor": 5
}
